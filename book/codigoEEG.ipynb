{
 "cells": [
  {
   "cell_type": "markdown",
   "id": "6bf84f7d",
   "metadata": {},
   "source": [
    "# Código EEG"
   ]
  }
 ],
 "metadata": {
  "language_info": {
   "name": "python"
  }
 },
 "nbformat": 4,
 "nbformat_minor": 5
}
