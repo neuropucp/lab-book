{
 "cells": [
  {
   "cell_type": "markdown",
   "id": "a2fb322c",
   "metadata": {},
   "source": [
    "# Codigo ECG"
   ]
  }
 ],
 "metadata": {
  "language_info": {
   "name": "python"
  }
 },
 "nbformat": 4,
 "nbformat_minor": 5
}
