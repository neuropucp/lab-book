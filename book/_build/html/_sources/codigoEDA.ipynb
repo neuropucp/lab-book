{
 "cells": [
  {
   "cell_type": "markdown",
   "id": "c0805d68",
   "metadata": {},
   "source": [
    "# Codigo EDA"
   ]
  }
 ],
 "metadata": {
  "language_info": {
   "name": "python"
  }
 },
 "nbformat": 4,
 "nbformat_minor": 5
}
